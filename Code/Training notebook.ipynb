{
 "cells": [
  {
   "cell_type": "markdown",
   "metadata": {},
   "source": [
    "## Importing the libraries"
   ]
  },
  {
   "cell_type": "code",
   "execution_count": 1,
   "metadata": {},
   "outputs": [],
   "source": [
    "import numpy as np\n",
    "import pandas as pd\n",
    "import matplotlib.pyplot as plt"
   ]
  },
  {
   "cell_type": "markdown",
   "metadata": {},
   "source": [
    "## Importing the dataset"
   ]
  },
  {
   "cell_type": "code",
   "execution_count": 2,
   "metadata": {
    "scrolled": false
   },
   "outputs": [
    {
     "data": {
      "text/html": [
       "<div>\n",
       "<style scoped>\n",
       "    .dataframe tbody tr th:only-of-type {\n",
       "        vertical-align: middle;\n",
       "    }\n",
       "\n",
       "    .dataframe tbody tr th {\n",
       "        vertical-align: top;\n",
       "    }\n",
       "\n",
       "    .dataframe thead th {\n",
       "        text-align: right;\n",
       "    }\n",
       "</style>\n",
       "<table border=\"1\" class=\"dataframe\">\n",
       "  <thead>\n",
       "    <tr style=\"text-align: right;\">\n",
       "      <th></th>\n",
       "      <th>SBP</th>\n",
       "      <th>DBP</th>\n",
       "      <th>Pulse</th>\n",
       "      <th>Temperature</th>\n",
       "      <th>Level</th>\n",
       "    </tr>\n",
       "  </thead>\n",
       "  <tbody>\n",
       "    <tr>\n",
       "      <th>0</th>\n",
       "      <td>120</td>\n",
       "      <td>80</td>\n",
       "      <td>80</td>\n",
       "      <td>98</td>\n",
       "      <td>0</td>\n",
       "    </tr>\n",
       "    <tr>\n",
       "      <th>1</th>\n",
       "      <td>140</td>\n",
       "      <td>83</td>\n",
       "      <td>75</td>\n",
       "      <td>100</td>\n",
       "      <td>1</td>\n",
       "    </tr>\n",
       "    <tr>\n",
       "      <th>2</th>\n",
       "      <td>155</td>\n",
       "      <td>100</td>\n",
       "      <td>92</td>\n",
       "      <td>104</td>\n",
       "      <td>2</td>\n",
       "    </tr>\n",
       "    <tr>\n",
       "      <th>3</th>\n",
       "      <td>115</td>\n",
       "      <td>82</td>\n",
       "      <td>79</td>\n",
       "      <td>97</td>\n",
       "      <td>0</td>\n",
       "    </tr>\n",
       "    <tr>\n",
       "      <th>4</th>\n",
       "      <td>119</td>\n",
       "      <td>79</td>\n",
       "      <td>85</td>\n",
       "      <td>102</td>\n",
       "      <td>1</td>\n",
       "    </tr>\n",
       "    <tr>\n",
       "      <th>...</th>\n",
       "      <td>...</td>\n",
       "      <td>...</td>\n",
       "      <td>...</td>\n",
       "      <td>...</td>\n",
       "      <td>...</td>\n",
       "    </tr>\n",
       "    <tr>\n",
       "      <th>144</th>\n",
       "      <td>154</td>\n",
       "      <td>99</td>\n",
       "      <td>83</td>\n",
       "      <td>103</td>\n",
       "      <td>2</td>\n",
       "    </tr>\n",
       "    <tr>\n",
       "      <th>145</th>\n",
       "      <td>118</td>\n",
       "      <td>77</td>\n",
       "      <td>73</td>\n",
       "      <td>98</td>\n",
       "      <td>0</td>\n",
       "    </tr>\n",
       "    <tr>\n",
       "      <th>146</th>\n",
       "      <td>125</td>\n",
       "      <td>87</td>\n",
       "      <td>79</td>\n",
       "      <td>102</td>\n",
       "      <td>1</td>\n",
       "    </tr>\n",
       "    <tr>\n",
       "      <th>147</th>\n",
       "      <td>132</td>\n",
       "      <td>88</td>\n",
       "      <td>78</td>\n",
       "      <td>101</td>\n",
       "      <td>1</td>\n",
       "    </tr>\n",
       "    <tr>\n",
       "      <th>148</th>\n",
       "      <td>118</td>\n",
       "      <td>82</td>\n",
       "      <td>74</td>\n",
       "      <td>98</td>\n",
       "      <td>0</td>\n",
       "    </tr>\n",
       "  </tbody>\n",
       "</table>\n",
       "<p>149 rows × 5 columns</p>\n",
       "</div>"
      ],
      "text/plain": [
       "     SBP  DBP  Pulse  Temperature  Level\n",
       "0    120   80     80           98      0\n",
       "1    140   83     75          100      1\n",
       "2    155  100     92          104      2\n",
       "3    115   82     79           97      0\n",
       "4    119   79     85          102      1\n",
       "..   ...  ...    ...          ...    ...\n",
       "144  154   99     83          103      2\n",
       "145  118   77     73           98      0\n",
       "146  125   87     79          102      1\n",
       "147  132   88     78          101      1\n",
       "148  118   82     74           98      0\n",
       "\n",
       "[149 rows x 5 columns]"
      ]
     },
     "execution_count": 2,
     "metadata": {},
     "output_type": "execute_result"
    }
   ],
   "source": [
    "dataset=pd.read_csv('Health monitoring.csv')\n",
    "dataset"
   ]
  },
  {
   "cell_type": "markdown",
   "metadata": {},
   "source": [
    "## Data visualization"
   ]
  },
  {
   "cell_type": "code",
   "execution_count": 3,
   "metadata": {},
   "outputs": [
    {
     "data": {
      "text/plain": [
       "<matplotlib.axes._subplots.AxesSubplot at 0x2265cf5ec48>"
      ]
     },
     "execution_count": 3,
     "metadata": {},
     "output_type": "execute_result"
    },
    {
     "data": {
      "image/png": "[encoded data removed]",
      "text/plain": [
       "<Figure size 432x288 with 1 Axes>"
      ]
     },
     "metadata": {
      "needs_background": "light"
     },
     "output_type": "display_data"
    }
   ],
   "source": [
    "import seaborn as sns\n",
    "sns.boxplot(dataset['SBP'])"
   ]
  },
  {
   "cell_type": "code",
   "execution_count": 4,
   "metadata": {},
   "outputs": [
    {
     "data": {
      "text/plain": [
       "<matplotlib.axes._subplots.AxesSubplot at 0x2265d6c6608>"
      ]
     },
     "execution_count": 4,
     "metadata": {},
     "output_type": "execute_result"
    },
    {
     "data": {
      "image/png": "[encoded data removed]",
      "text/plain": [
       "<Figure size 432x288 with 1 Axes>"
      ]
     },
     "metadata": {
      "needs_background": "light"
     },
     "output_type": "display_data"
    }
   ],
   "source": [
    "import seaborn as sns\n",
    "sns.boxplot(dataset['DBP'])"
   ]
  },
  {
   "cell_type": "code",
   "execution_count": 5,
   "metadata": {},
   "outputs": [
    {
     "data": {
      "text/plain": [
       "<matplotlib.axes._subplots.AxesSubplot at 0x2265d743c08>"
      ]
     },
     "execution_count": 5,
     "metadata": {},
     "output_type": "execute_result"
    },
    {
     "data": {
      "image/png": "[encoded data removed]",
      "text/plain": [
       "<Figure size 432x288 with 1 Axes>"
      ]
     },
     "metadata": {
      "needs_background": "light"
     },
     "output_type": "display_data"
    }
   ],
   "source": [
    "import seaborn as sns\n",
    "sns.boxplot(dataset['Pulse'])"
   ]
  },
  {
   "cell_type": "code",
   "execution_count": 6,
   "metadata": {},
   "outputs": [
    {
     "data": {
      "text/plain": [
       "<matplotlib.axes._subplots.AxesSubplot at 0x2265d79ef48>"
      ]
     },
     "execution_count": 6,
     "metadata": {},
     "output_type": "execute_result"
    },
    {
     "data": {
      "image/png": "[encoded data removed]",
      "text/plain": [
       "<Figure size 432x288 with 1 Axes>"
      ]
     },
     "metadata": {
      "needs_background": "light"
     },
     "output_type": "display_data"
    }
   ],
   "source": [
    "import seaborn as sns\n",
    "sns.boxplot(dataset['Temperature'])"
   ]
  },
  {
   "cell_type": "markdown",
   "metadata": {},
   "source": [
    "## Handling missing values"
   ]
  },
  {
   "cell_type": "code",
   "execution_count": 7,
   "metadata": {},
   "outputs": [
    {
     "data": {
      "text/plain": [
       "SBP            False\n",
       "DBP            False\n",
       "Pulse          False\n",
       "Temperature    False\n",
       "Level          False\n",
       "dtype: bool"
      ]
     },
     "execution_count": 7,
     "metadata": {},
     "output_type": "execute_result"
    }
   ],
   "source": [
    "dataset.isnull().any()"
   ]
  },
  {
   "cell_type": "raw",
   "metadata": {},
   "source": [
    "No missing value"
   ]
  },
  {
   "cell_type": "markdown",
   "metadata": {},
   "source": [
    "## Handling textual data"
   ]
  },
  {
   "cell_type": "raw",
   "metadata": {},
   "source": [
    "No Textual data found in dataset\n",
    "So Label Encoding and One hot Encoding is not required"
   ]
  },
  {
   "cell_type": "markdown",
   "metadata": {},
   "source": [
    "# Splitting the data into Train and Test set"
   ]
  },
  {
   "cell_type": "code",
   "execution_count": 8,
   "metadata": {},
   "outputs": [],
   "source": [
    "x=dataset.iloc[:,0:4].values\n",
    "y=dataset.iloc[:,4].values"
   ]
  },
  {
   "cell_type": "code",
   "execution_count": 9,
   "metadata": {},
   "outputs": [
    {
     "data": {
      "text/plain": [
       "array([[120,  80,  80,  98],\n",
       "       [140,  83,  75, 100],\n",
       "       [155, 100,  92, 104],\n",
       "       [115,  82,  79,  97],\n",
       "       [119,  79,  85, 102],\n",
       "       [ 95,  65,  75, 101],\n",
       "       [116,  75,  70,  99],\n",
       "       [100,  60,  79,  98],\n",
       "       [119,  78,  68, 100],\n",
       "       [110,  69,  65, 102],\n",
       "       [117,  73,  76,  99],\n",
       "       [130,  88,  84, 101],\n",
       "       [145,  90,  82, 104],\n",
       "       [118,  75,  75,  99],\n",
       "       [114,  76,  69,  98],\n",
       "       [105,  65,  60, 102],\n",
       "       [132,  89,  76, 101],\n",
       "       [135,  87,  76, 100],\n",
       "       [140,  91,  80, 102],\n",
       "       [119,  78,  70,  99],\n",
       "       [116,  77,  74,  98],\n",
       "       [106,  68,  79, 103],\n",
       "       [129,  89,  82, 100],\n",
       "       [126,  90,  80, 101],\n",
       "       [147,  95,  84, 104],\n",
       "       [116,  78,  70,  98],\n",
       "       [118,  76,  68,  99],\n",
       "       [128,  87,  80, 100],\n",
       "       [130,  85,  82, 101],\n",
       "       [148,  92,  84, 104],\n",
       "       [100,  65,  62,  95],\n",
       "       [ 99,  60,  65,  94],\n",
       "       [119,  78,  74,  98],\n",
       "       [117,  79,  76,  99],\n",
       "       [116,  80,  74,  98],\n",
       "       [115,  78,  68,  99],\n",
       "       [126,  85,  79, 100],\n",
       "       [127,  89,  80,  98],\n",
       "       [128,  88,  79, 101],\n",
       "       [120,  78,  70, 105],\n",
       "       [118,  79,  76, 106],\n",
       "       [100,  65,  79, 100],\n",
       "       [119,  76,  72,  98],\n",
       "       [118,  79,  70,  99],\n",
       "       [117,  78,  75,  98],\n",
       "       [145,  92,  82, 101],\n",
       "       [146,  90,  80, 104],\n",
       "       [127,  85,  79, 100],\n",
       "       [126,  88,  78,  98],\n",
       "       [120,  76,  70,  98],\n",
       "       [118,  79,  76, 100],\n",
       "       [140,  99,  85, 102],\n",
       "       [128,  88,  77,  98],\n",
       "       [126,  87,  76,  99],\n",
       "       [119,  78,  70,  98],\n",
       "       [118,  77,  75,  99],\n",
       "       [104,  68,  79, 101],\n",
       "       [100,  64,  69, 104],\n",
       "       [142,  93,  80, 102],\n",
       "       [126,  85,  79,  99],\n",
       "       [127,  84,  75, 100],\n",
       "       [118,  81,  72,  98],\n",
       "       [120,  78,  70,  99],\n",
       "       [119,  80,  75,  98],\n",
       "       [118,  78,  69,  98],\n",
       "       [127,  83,  79, 100],\n",
       "       [128,  86,  64, 101],\n",
       "       [149,  96,  82, 103],\n",
       "       [148,  95,  80, 102],\n",
       "       [ 98,  60,  64, 101],\n",
       "       [101,  68,  67, 104],\n",
       "       [126,  85,  76, 100],\n",
       "       [127,  87,  78,  98],\n",
       "       [128,  88,  77,  99],\n",
       "       [120,  79,  75,  98],\n",
       "       [119,  78,  72,  98],\n",
       "       [118,  77,  70,  99],\n",
       "       [101,  67,  78, 100],\n",
       "       [104,  68,  79, 101],\n",
       "       [105,  69,  76,  99],\n",
       "       [100,  63,  80, 103],\n",
       "       [114,  78,  75,  98],\n",
       "       [116,  79,  74,  98],\n",
       "       [117,  80,  73,  99],\n",
       "       [115,  78,  70,  98],\n",
       "       [150,  96,  82, 102],\n",
       "       [151,  95,  80, 100],\n",
       "       [149,  94,  83,  99],\n",
       "       [124,  84,  76,  98],\n",
       "       [120,  80,  76,  98],\n",
       "       [119,  78,  70,  98],\n",
       "       [118,  76,  74,  98],\n",
       "       [117,  79,  73,  98],\n",
       "       [118,  79,  76, 105],\n",
       "       [120,  80,  75, 105],\n",
       "       [117,  60,  85, 100],\n",
       "       [107,  65,  80, 102],\n",
       "       [ 99,  66,  79, 102],\n",
       "       [118,  79,  73,  99],\n",
       "       [131,  86,  76,  98],\n",
       "       [132,  87,  77,  98],\n",
       "       [132,  86,  75, 102],\n",
       "       [133,  92,  79, 100],\n",
       "       [134,  87,  78,  99],\n",
       "       [135,  89,  80, 100],\n",
       "       [136,  90,  79, 101],\n",
       "       [101,  68,  70,  99],\n",
       "       [102,  67,  65, 101],\n",
       "       [ 99,  68,  66, 102],\n",
       "       [145, 100,  75, 100],\n",
       "       [146, 101,  82, 101],\n",
       "       [146,  95,  81, 100],\n",
       "       [152,  98,  75,  99],\n",
       "       [154,  99,  79, 100],\n",
       "       [118,  79,  71,  98],\n",
       "       [119,  76,  70,  99],\n",
       "       [120,  78,  69,  98],\n",
       "       [117,  79,  68,  98],\n",
       "       [116,  80,  70,  98],\n",
       "       [119,  80,  73,  99],\n",
       "       [119,  79,  70,  98],\n",
       "       [125,  85,  75, 100],\n",
       "       [126,  87,  77, 101],\n",
       "       [128,  88,  79, 101],\n",
       "       [130,  85,  76, 100],\n",
       "       [148,  90,  76, 101],\n",
       "       [147,  92,  80,  99],\n",
       "       [153, 101,  81, 102],\n",
       "       [151,  99,  82, 103],\n",
       "       [118,  78,  68,  98],\n",
       "       [119,  79,  70,  98],\n",
       "       [120,  78,  71,  99],\n",
       "       [119,  78,  74,  98],\n",
       "       [ 98,  64,  76,  98],\n",
       "       [104,  67,  84, 103],\n",
       "       [106,  62,  78, 102],\n",
       "       [130,  87,  76, 100],\n",
       "       [116,  78,  73,  98],\n",
       "       [118,  79,  69,  98],\n",
       "       [117,  77,  74,  98],\n",
       "       [134,  86,  78, 100],\n",
       "       [136,  87,  80, 101],\n",
       "       [139,  88,  81, 100],\n",
       "       [147,  94,  79, 100],\n",
       "       [154,  99,  83, 103],\n",
       "       [118,  77,  73,  98],\n",
       "       [125,  87,  79, 102],\n",
       "       [132,  88,  78, 101],\n",
       "       [118,  82,  74,  98]], dtype=int64)"
      ]
     },
     "execution_count": 9,
     "metadata": {},
     "output_type": "execute_result"
    }
   ],
   "source": [
    "x"
   ]
  },
  {
   "cell_type": "code",
   "execution_count": 10,
   "metadata": {},
   "outputs": [
    {
     "data": {
      "text/plain": [
       "array([0, 1, 2, 0, 1, 2, 0, 2, 0, 2, 0, 1, 2, 0, 0, 2, 1, 1, 2, 0, 0, 2,\n",
       "       1, 1, 2, 0, 0, 1, 1, 2, 2, 2, 0, 0, 0, 0, 1, 1, 1, 2, 2, 2, 0, 0,\n",
       "       0, 2, 2, 1, 1, 0, 0, 2, 1, 1, 0, 0, 2, 2, 2, 1, 1, 0, 0, 0, 0, 1,\n",
       "       1, 2, 2, 2, 2, 1, 1, 1, 0, 0, 0, 2, 2, 2, 2, 0, 0, 0, 0, 2, 2, 2,\n",
       "       1, 0, 0, 0, 0, 2, 2, 1, 2, 2, 0, 1, 1, 1, 1, 1, 1, 1, 2, 2, 2, 2,\n",
       "       2, 2, 2, 2, 0, 0, 0, 0, 0, 0, 0, 1, 1, 1, 1, 2, 2, 2, 2, 0, 0, 0,\n",
       "       0, 2, 2, 2, 1, 0, 0, 0, 1, 1, 1, 2, 2, 0, 1, 1, 0], dtype=int64)"
      ]
     },
     "execution_count": 10,
     "metadata": {},
     "output_type": "execute_result"
    }
   ],
   "source": [
    "y"
   ]
  },
  {
   "cell_type": "code",
   "execution_count": 11,
   "metadata": {},
   "outputs": [],
   "source": [
    "from sklearn.model_selection import train_test_split\n",
    "X_train,X_test,y_train,y_test = train_test_split(x,y,test_size=0.2,random_state=0)"
   ]
  },
  {
   "cell_type": "code",
   "execution_count": 12,
   "metadata": {},
   "outputs": [
    {
     "data": {
      "text/plain": [
       "array([[128,  87,  80, 100],\n",
       "       [ 99,  66,  79, 102],\n",
       "       [107,  65,  80, 102],\n",
       "       [ 98,  60,  64, 101],\n",
       "       [140,  91,  80, 102],\n",
       "       [136,  90,  79, 101],\n",
       "       [130,  87,  76, 100],\n",
       "       [118,  81,  72,  98],\n",
       "       [140,  99,  85, 102],\n",
       "       [155, 100,  92, 104],\n",
       "       [125,  87,  79, 102],\n",
       "       [117,  73,  76,  99],\n",
       "       [104,  68,  79, 101],\n",
       "       [154,  99,  79, 100],\n",
       "       [147,  94,  79, 100],\n",
       "       [120,  78,  69,  98],\n",
       "       [128,  86,  64, 101],\n",
       "       [104,  68,  79, 101],\n",
       "       [126,  85,  76, 100],\n",
       "       [120,  78,  71,  99],\n",
       "       [119,  79,  70,  98],\n",
       "       [120,  80,  76,  98],\n",
       "       [118,  77,  73,  98],\n",
       "       [132,  87,  77,  98],\n",
       "       [118,  79,  76, 100],\n",
       "       [147,  92,  80,  99],\n",
       "       [127,  84,  75, 100],\n",
       "       [100,  65,  62,  95],\n",
       "       [119,  80,  75,  98],\n",
       "       [118,  76,  74,  98],\n",
       "       [117,  80,  73,  99],\n",
       "       [151,  95,  80, 100],\n",
       "       [128,  88,  79, 101],\n",
       "       [118,  79,  73,  99],\n",
       "       [126,  87,  77, 101],\n",
       "       [126,  88,  78,  98],\n",
       "       [118,  75,  75,  99],\n",
       "       [ 99,  68,  66, 102],\n",
       "       [117,  79,  73,  98],\n",
       "       [116,  77,  74,  98],\n",
       "       [105,  65,  60, 102],\n",
       "       [128,  88,  77,  98],\n",
       "       [115,  82,  79,  97],\n",
       "       [153, 101,  81, 102],\n",
       "       [118,  77,  70,  99],\n",
       "       [116,  75,  70,  99],\n",
       "       [148,  95,  80, 102],\n",
       "       [101,  68,  70,  99],\n",
       "       [118,  79,  76, 105],\n",
       "       [145,  90,  82, 104],\n",
       "       [130,  85,  76, 100],\n",
       "       [132,  88,  78, 101],\n",
       "       [132,  86,  75, 102],\n",
       "       [148,  90,  76, 101],\n",
       "       [146,  90,  80, 104],\n",
       "       [130,  88,  84, 101],\n",
       "       [102,  67,  65, 101],\n",
       "       [152,  98,  75,  99],\n",
       "       [100,  65,  79, 100],\n",
       "       [118,  79,  71,  98],\n",
       "       [140,  83,  75, 100],\n",
       "       [146, 101,  82, 101],\n",
       "       [118,  79,  69,  98],\n",
       "       [119,  76,  72,  98],\n",
       "       [119,  79,  85, 102],\n",
       "       [151,  99,  82, 103],\n",
       "       [135,  87,  76, 100],\n",
       "       [128,  88,  79, 101],\n",
       "       [ 95,  65,  75, 101],\n",
       "       [126,  87,  76,  99],\n",
       "       [139,  88,  81, 100],\n",
       "       [133,  92,  79, 100],\n",
       "       [120,  80,  80,  98],\n",
       "       [116,  80,  74,  98],\n",
       "       [130,  85,  82, 101],\n",
       "       [118,  77,  75,  99],\n",
       "       [119,  78,  72,  98],\n",
       "       [115,  78,  68,  99],\n",
       "       [126,  90,  80, 101],\n",
       "       [120,  79,  75,  98],\n",
       "       [ 99,  60,  65,  94],\n",
       "       [125,  85,  75, 100],\n",
       "       [100,  64,  69, 104],\n",
       "       [119,  79,  70,  98],\n",
       "       [127,  83,  79, 100],\n",
       "       [119,  78,  74,  98],\n",
       "       [116,  78,  73,  98],\n",
       "       [114,  76,  69,  98],\n",
       "       [119,  80,  73,  99],\n",
       "       [119,  78,  70,  99],\n",
       "       [148,  92,  84, 104],\n",
       "       [118,  78,  68,  98],\n",
       "       [120,  76,  70,  98],\n",
       "       [106,  62,  78, 102],\n",
       "       [131,  86,  76,  98],\n",
       "       [116,  79,  74,  98],\n",
       "       [118,  78,  69,  98],\n",
       "       [118,  82,  74,  98],\n",
       "       [105,  69,  76,  99],\n",
       "       [119,  76,  70,  99],\n",
       "       [154,  99,  83, 103],\n",
       "       [127,  87,  78,  98],\n",
       "       [101,  67,  78, 100],\n",
       "       [116,  78,  70,  98],\n",
       "       [114,  78,  75,  98],\n",
       "       [117,  77,  74,  98],\n",
       "       [136,  87,  80, 101],\n",
       "       [120,  78,  70, 105],\n",
       "       [142,  93,  80, 102],\n",
       "       [124,  84,  76,  98],\n",
       "       [101,  68,  67, 104],\n",
       "       [149,  94,  83,  99],\n",
       "       [126,  85,  79, 100],\n",
       "       [106,  68,  79, 103],\n",
       "       [110,  69,  65, 102],\n",
       "       [134,  87,  78,  99],\n",
       "       [149,  96,  82, 103],\n",
       "       [117,  79,  68,  98],\n",
       "       [127,  85,  79, 100]], dtype=int64)"
      ]
     },
     "execution_count": 12,
     "metadata": {},
     "output_type": "execute_result"
    }
   ],
   "source": [
    "X_train"
   ]
  },
  {
   "cell_type": "code",
   "execution_count": 13,
   "metadata": {},
   "outputs": [
    {
     "data": {
      "text/plain": [
       "array([[ 98,  64,  76,  98],\n",
       "       [145, 100,  75, 100],\n",
       "       [126,  85,  79,  99],\n",
       "       [100,  63,  80, 103],\n",
       "       [100,  60,  79,  98],\n",
       "       [135,  89,  80, 100],\n",
       "       [134,  86,  78, 100],\n",
       "       [117,  60,  85, 100],\n",
       "       [116,  80,  70,  98],\n",
       "       [115,  78,  70,  98],\n",
       "       [117,  79,  76,  99],\n",
       "       [117,  78,  75,  98],\n",
       "       [119,  78,  70,  98],\n",
       "       [147,  95,  84, 104],\n",
       "       [127,  89,  80,  98],\n",
       "       [119,  78,  74,  98],\n",
       "       [146,  95,  81, 100],\n",
       "       [128,  88,  77,  99],\n",
       "       [132,  89,  76, 101],\n",
       "       [145,  92,  82, 101],\n",
       "       [118,  79,  76, 106],\n",
       "       [119,  78,  68, 100],\n",
       "       [150,  96,  82, 102],\n",
       "       [129,  89,  82, 100],\n",
       "       [120,  78,  70,  99],\n",
       "       [120,  80,  75, 105],\n",
       "       [119,  78,  70,  98],\n",
       "       [118,  76,  68,  99],\n",
       "       [118,  79,  70,  99],\n",
       "       [104,  67,  84, 103]], dtype=int64)"
      ]
     },
     "execution_count": 13,
     "metadata": {},
     "output_type": "execute_result"
    }
   ],
   "source": [
    "X_test"
   ]
  },
  {
   "cell_type": "code",
   "execution_count": 14,
   "metadata": {},
   "outputs": [
    {
     "data": {
      "text/plain": [
       "array([1, 2, 2, 2, 2, 1, 1, 0, 2, 2, 1, 0, 2, 2, 2, 0, 1, 2, 1, 0, 0, 0,\n",
       "       0, 1, 0, 2, 1, 2, 0, 0, 0, 2, 1, 0, 1, 1, 0, 2, 0, 0, 2, 1, 0, 2,\n",
       "       0, 0, 2, 2, 2, 2, 1, 1, 1, 2, 2, 1, 2, 2, 2, 0, 1, 2, 0, 0, 1, 2,\n",
       "       1, 1, 2, 1, 1, 1, 0, 0, 1, 0, 0, 0, 1, 0, 2, 1, 2, 0, 1, 0, 0, 0,\n",
       "       0, 0, 2, 0, 0, 2, 1, 0, 0, 0, 2, 0, 2, 1, 2, 0, 0, 0, 1, 2, 2, 1,\n",
       "       2, 2, 1, 2, 2, 1, 2, 0, 1], dtype=int64)"
      ]
     },
     "execution_count": 14,
     "metadata": {},
     "output_type": "execute_result"
    }
   ],
   "source": [
    "y_train"
   ]
  },
  {
   "cell_type": "code",
   "execution_count": 15,
   "metadata": {},
   "outputs": [
    {
     "data": {
      "text/plain": [
       "array([2, 2, 1, 2, 2, 1, 1, 1, 0, 0, 0, 0, 0, 2, 1, 0, 2, 1, 1, 2, 2, 0,\n",
       "       2, 1, 0, 2, 0, 0, 0, 2], dtype=int64)"
      ]
     },
     "execution_count": 15,
     "metadata": {},
     "output_type": "execute_result"
    }
   ],
   "source": [
    "y_test"
   ]
  },
  {
   "cell_type": "markdown",
   "metadata": {},
   "source": [
    "# Feature scaling"
   ]
  },
  {
   "cell_type": "markdown",
   "metadata": {},
   "source": [
    "No feature scaling is required."
   ]
  },
  {
   "cell_type": "markdown",
   "metadata": {},
   "source": [
    "# Training and Testing the model"
   ]
  },
  {
   "cell_type": "code",
   "execution_count": 16,
   "metadata": {},
   "outputs": [],
   "source": [
    "from sklearn.neighbors import KNeighborsClassifier\n",
    "knn = KNeighborsClassifier(n_neighbors=5,metric='minkowski',p=2)"
   ]
  },
  {
   "cell_type": "code",
   "execution_count": 17,
   "metadata": {},
   "outputs": [
    {
     "data": {
      "text/plain": [
       "KNeighborsClassifier(algorithm='auto', leaf_size=30, metric='minkowski',\n",
       "                     metric_params=None, n_jobs=None, n_neighbors=5, p=2,\n",
       "                     weights='uniform')"
      ]
     },
     "execution_count": 17,
     "metadata": {},
     "output_type": "execute_result"
    }
   ],
   "source": [
    "knn.fit(X_train,y_train)"
   ]
  },
  {
   "cell_type": "code",
   "execution_count": null,
   "metadata": {},
   "outputs": [],
   "source": [
    "from joblib import dump\n",
    "dump(knn,'hms.save')"
   ]
  },
  {
   "cell_type": "code",
   "execution_count": 18,
   "metadata": {},
   "outputs": [
    {
     "data": {
      "text/plain": [
       "array([2, 2, 1, 2, 2, 1, 1, 2, 0, 0, 0, 0, 0, 2, 1, 0, 2, 1, 1, 2, 0, 0,\n",
       "       2, 1, 0, 0, 0, 0, 0, 2], dtype=int64)"
      ]
     },
     "execution_count": 18,
     "metadata": {},
     "output_type": "execute_result"
    }
   ],
   "source": [
    "y_pred=knn.predict(X_test)\n",
    "y_pred"
   ]
  },
  {
   "cell_type": "markdown",
   "metadata": {},
   "source": [
    "# Evaluation"
   ]
  },
  {
   "cell_type": "code",
   "execution_count": 19,
   "metadata": {},
   "outputs": [
    {
     "data": {
      "text/plain": [
       "0.9"
      ]
     },
     "execution_count": 19,
     "metadata": {},
     "output_type": "execute_result"
    }
   ],
   "source": [
    "from sklearn.metrics import accuracy_score\n",
    "accuracy_score(y_test,y_pred)"
   ]
  }
 ],
 "metadata": {
  "kernelspec": {
   "display_name": "Python 3",
   "language": "python",
   "name": "python3"
  },
  "language_info": {
   "codemirror_mode": {
    "name": "ipython",
    "version": 3
   },
   "file_extension": ".py",
   "mimetype": "text/x-python",
   "name": "python",
   "nbconvert_exporter": "python",
   "pygments_lexer": "ipython3",
   "version": "3.7.6"
  }
 },
 "nbformat": 4,
 "nbformat_minor": 4
}
