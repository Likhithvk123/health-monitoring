{
 "cells": [
  {
   "attachments": {},
   "cell_type": "markdown",
   "metadata": {},
   "source": [
    "## Importing the libraries"
   ]
  },
  {
   "cell_type": "code",
   "execution_count": 1,
   "metadata": {},
   "outputs": [],
   "source": [
    "import numpy as np\n",
    "import pandas as pd\n",
    "import matplotlib.pyplot as plt\n",
    "import os\n",
    "os.chdir(\"F:\\Health-monitoring-system-using-ML-master\\Dataset\")"
   ]
  },
  {
   "attachments": {},
   "cell_type": "markdown",
   "metadata": {},
   "source": [
    "## Importing the dataset"
   ]
  },
  {
   "cell_type": "code",
   "execution_count": 2,
   "metadata": {
    "scrolled": false
   },
   "outputs": [
    {
     "data": {
      "text/html": [
       "<div>\n",
       "<style scoped>\n",
       "    .dataframe tbody tr th:only-of-type {\n",
       "        vertical-align: middle;\n",
       "    }\n",
       "\n",
       "    .dataframe tbody tr th {\n",
       "        vertical-align: top;\n",
       "    }\n",
       "\n",
       "    .dataframe thead th {\n",
       "        text-align: right;\n",
       "    }\n",
       "</style>\n",
       "<table border=\"1\" class=\"dataframe\">\n",
       "  <thead>\n",
       "    <tr style=\"text-align: right;\">\n",
       "      <th></th>\n",
       "      <th>SBP</th>\n",
       "      <th>DBP</th>\n",
       "      <th>Pulse</th>\n",
       "      <th>Temperature</th>\n",
       "      <th>Level</th>\n",
       "    </tr>\n",
       "  </thead>\n",
       "  <tbody>\n",
       "    <tr>\n",
       "      <th>0</th>\n",
       "      <td>120</td>\n",
       "      <td>80</td>\n",
       "      <td>80</td>\n",
       "      <td>98</td>\n",
       "      <td>0</td>\n",
       "    </tr>\n",
       "    <tr>\n",
       "      <th>1</th>\n",
       "      <td>140</td>\n",
       "      <td>83</td>\n",
       "      <td>75</td>\n",
       "      <td>100</td>\n",
       "      <td>1</td>\n",
       "    </tr>\n",
       "    <tr>\n",
       "      <th>2</th>\n",
       "      <td>155</td>\n",
       "      <td>100</td>\n",
       "      <td>92</td>\n",
       "      <td>104</td>\n",
       "      <td>2</td>\n",
       "    </tr>\n",
       "    <tr>\n",
       "      <th>3</th>\n",
       "      <td>115</td>\n",
       "      <td>82</td>\n",
       "      <td>79</td>\n",
       "      <td>97</td>\n",
       "      <td>0</td>\n",
       "    </tr>\n",
       "    <tr>\n",
       "      <th>4</th>\n",
       "      <td>119</td>\n",
       "      <td>79</td>\n",
       "      <td>85</td>\n",
       "      <td>102</td>\n",
       "      <td>1</td>\n",
       "    </tr>\n",
       "    <tr>\n",
       "      <th>...</th>\n",
       "      <td>...</td>\n",
       "      <td>...</td>\n",
       "      <td>...</td>\n",
       "      <td>...</td>\n",
       "      <td>...</td>\n",
       "    </tr>\n",
       "    <tr>\n",
       "      <th>144</th>\n",
       "      <td>154</td>\n",
       "      <td>99</td>\n",
       "      <td>83</td>\n",
       "      <td>103</td>\n",
       "      <td>2</td>\n",
       "    </tr>\n",
       "    <tr>\n",
       "      <th>145</th>\n",
       "      <td>118</td>\n",
       "      <td>77</td>\n",
       "      <td>73</td>\n",
       "      <td>98</td>\n",
       "      <td>0</td>\n",
       "    </tr>\n",
       "    <tr>\n",
       "      <th>146</th>\n",
       "      <td>125</td>\n",
       "      <td>87</td>\n",
       "      <td>79</td>\n",
       "      <td>102</td>\n",
       "      <td>1</td>\n",
       "    </tr>\n",
       "    <tr>\n",
       "      <th>147</th>\n",
       "      <td>132</td>\n",
       "      <td>88</td>\n",
       "      <td>78</td>\n",
       "      <td>101</td>\n",
       "      <td>1</td>\n",
       "    </tr>\n",
       "    <tr>\n",
       "      <th>148</th>\n",
       "      <td>118</td>\n",
       "      <td>82</td>\n",
       "      <td>74</td>\n",
       "      <td>98</td>\n",
       "      <td>0</td>\n",
       "    </tr>\n",
       "  </tbody>\n",
       "</table>\n",
       "<p>149 rows × 5 columns</p>\n",
       "</div>"
      ],
      "text/plain": [
       "     SBP  DBP  Pulse  Temperature  Level\n",
       "0    120   80     80           98      0\n",
       "1    140   83     75          100      1\n",
       "2    155  100     92          104      2\n",
       "3    115   82     79           97      0\n",
       "4    119   79     85          102      1\n",
       "..   ...  ...    ...          ...    ...\n",
       "144  154   99     83          103      2\n",
       "145  118   77     73           98      0\n",
       "146  125   87     79          102      1\n",
       "147  132   88     78          101      1\n",
       "148  118   82     74           98      0\n",
       "\n",
       "[149 rows x 5 columns]"
      ]
     },
     "execution_count": 2,
     "metadata": {},
     "output_type": "execute_result"
    }
   ],
   "source": [
    "dataset=pd.read_csv('Health monitoring.csv')\n",
    "dataset"
   ]
  },
  {
   "attachments": {},
   "cell_type": "markdown",
   "metadata": {},
   "source": [
    "## Data visualization"
   ]
  },
  {
   "cell_type": "code",
   "execution_count": 3,
   "metadata": {},
   "outputs": [
    {
     "name": "stderr",
     "output_type": "stream",
     "text": [
      "c:\\Users\\User\\.conda\\envs\\pandas\\lib\\site-packages\\seaborn\\_decorators.py:36: FutureWarning: Pass the following variable as a keyword arg: x. From version 0.12, the only valid positional argument will be `data`, and passing other arguments without an explicit keyword will result in an error or misinterpretation.\n",
      "  warnings.warn(\n"
     ]
    },
    {
     "data": {
      "text/plain": [
       "<AxesSubplot:xlabel='SBP'>"
      ]
     },
     "execution_count": 3,
     "metadata": {},
     "output_type": "execute_result"
    },
    {
     "data": {
      "image/png": "[encoded data removed]",
      "text/plain": [
       "<Figure size 432x288 with 1 Axes>"
      ]
     },
     "metadata": {
      "needs_background": "light"
     },
     "output_type": "display_data"
    }
   ],
   "source": [
    "import seaborn as sns\n",
    "sns.boxplot(dataset['SBP'])"
   ]
  },
  {
   "cell_type": "code",
   "execution_count": 4,
   "metadata": {},
   "outputs": [
    {
     "name": "stderr",
     "output_type": "stream",
     "text": [
      "c:\\Users\\User\\.conda\\envs\\pandas\\lib\\site-packages\\seaborn\\_decorators.py:36: FutureWarning: Pass the following variable as a keyword arg: x. From version 0.12, the only valid positional argument will be `data`, and passing other arguments without an explicit keyword will result in an error or misinterpretation.\n",
      "  warnings.warn(\n"
     ]
    },
    {
     "data": {
      "text/plain": [
       "<AxesSubplot:xlabel='DBP'>"
      ]
     },
     "execution_count": 4,
     "metadata": {},
     "output_type": "execute_result"
    },
    {
     "data": {
      "image/png": "[encoded data removed]",
      "text/plain": [
       "<Figure size 432x288 with 1 Axes>"
      ]
     },
     "metadata": {
      "needs_background": "light"
     },
     "output_type": "display_data"
    }
   ],
   "source": [
    "import seaborn as sns\n",
    "sns.boxplot(dataset['DBP'])"
   ]
  },
  {
   "cell_type": "code",
   "execution_count": 5,
   "metadata": {},
   "outputs": [
    {
     "name": "stderr",
     "output_type": "stream",
     "text": [
      "c:\\Users\\User\\.conda\\envs\\pandas\\lib\\site-packages\\seaborn\\_decorators.py:36: FutureWarning: Pass the following variable as a keyword arg: x. From version 0.12, the only valid positional argument will be `data`, and passing other arguments without an explicit keyword will result in an error or misinterpretation.\n",
      "  warnings.warn(\n"
     ]
    },
    {
     "data": {
      "text/plain": [
       "<AxesSubplot:xlabel='Pulse'>"
      ]
     },
     "execution_count": 5,
     "metadata": {},
     "output_type": "execute_result"
    },
    {
     "data": {
      "image/png": "[encoded data removed]",
      "text/plain": [
       "<Figure size 432x288 with 1 Axes>"
      ]
     },
     "metadata": {
      "needs_background": "light"
     },
     "output_type": "display_data"
    }
   ],
   "source": [
    "import seaborn as sns\n",
    "sns.boxplot(dataset['Pulse'])"
   ]
  },
  {
   "cell_type": "code",
   "execution_count": 6,
   "metadata": {},
   "outputs": [
    {
     "name": "stderr",
     "output_type": "stream",
     "text": [
      "c:\\Users\\User\\.conda\\envs\\pandas\\lib\\site-packages\\seaborn\\_decorators.py:36: FutureWarning: Pass the following variable as a keyword arg: x. From version 0.12, the only valid positional argument will be `data`, and passing other arguments without an explicit keyword will result in an error or misinterpretation.\n",
      "  warnings.warn(\n"
     ]
    },
    {
     "data": {
      "text/plain": [
       "<AxesSubplot:xlabel='Temperature'>"
      ]
     },
     "execution_count": 6,
     "metadata": {},
     "output_type": "execute_result"
    },
    {
     "data": {
      "image/png": "[encoded data removed]",
      "text/plain": [
       "<Figure size 432x288 with 1 Axes>"
      ]
     },
     "metadata": {
      "needs_background": "light"
     },
     "output_type": "display_data"
    }
   ],
   "source": [
    "import seaborn as sns\n",
    "sns.boxplot(dataset['Temperature'])"
   ]
  },
  {
   "attachments": {},
   "cell_type": "markdown",
   "metadata": {},
   "source": [
    "## Handling missing values"
   ]
  },
  {
   "cell_type": "code",
   "execution_count": 7,
   "metadata": {},
   "outputs": [
    {
     "data": {
      "text/plain": [
       "SBP            False\n",
       "DBP            False\n",
       "Pulse          False\n",
       "Temperature    False\n",
       "Level          False\n",
       "dtype: bool"
      ]
     },
     "execution_count": 7,
     "metadata": {},
     "output_type": "execute_result"
    }
   ],
   "source": [
    "dataset.isnull().any()"
   ]
  },
  {
   "cell_type": "raw",
   "metadata": {},
   "source": [
    "No missing value"
   ]
  },
  {
   "attachments": {},
   "cell_type": "markdown",
   "metadata": {},
   "source": [
    "## Handling textual data"
   ]
  },
  {
   "cell_type": "raw",
   "metadata": {},
   "source": [
    "No Textual data found in dataset\n",
    "So Label Encoding and One hot Encoding is not required"
   ]
  },
  {
   "attachments": {},
   "cell_type": "markdown",
   "metadata": {},
   "source": [
    "# Splitting the data into Train and Test set"
   ]
  },
  {
   "cell_type": "code",
   "execution_count": 8,
   "metadata": {},
   "outputs": [],
   "source": [
    "x=dataset.iloc[:,0:4].values\n",
    "y=dataset.iloc[:,4].values"
   ]
  },
  {
   "cell_type": "code",
   "execution_count": 9,
   "metadata": {},
   "outputs": [
    {
     "data": {
      "text/plain": [
       "array([[120,  80,  80,  98],\n",
       "       [140,  83,  75, 100],\n",
       "       [155, 100,  92, 104],\n",
       "       [115,  82,  79,  97],\n",
       "       [119,  79,  85, 102],\n",
       "       [ 95,  65,  75, 101],\n",
       "       [116,  75,  70,  99],\n",
       "       [100,  60,  79,  98],\n",
       "       [119,  78,  68, 100],\n",
       "       [110,  69,  65, 102],\n",
       "       [117,  73,  76,  99],\n",
       "       [130,  88,  84, 101],\n",
       "       [145,  90,  82, 104],\n",
       "       [118,  75,  75,  99],\n",
       "       [114,  76,  69,  98],\n",
       "       [105,  65,  60, 102],\n",
       "       [132,  89,  76, 101],\n",
       "       [135,  87,  76, 100],\n",
       "       [140,  91,  80, 102],\n",
       "       [119,  78,  70,  99],\n",
       "       [116,  77,  74,  98],\n",
       "       [106,  68,  79, 103],\n",
       "       [129,  89,  82, 100],\n",
       "       [126,  90,  80, 101],\n",
       "       [147,  95,  84, 104],\n",
       "       [116,  78,  70,  98],\n",
       "       [118,  76,  68,  99],\n",
       "       [128,  87,  80, 100],\n",
       "       [130,  85,  82, 101],\n",
       "       [148,  92,  84, 104],\n",
       "       [100,  65,  62,  95],\n",
       "       [ 99,  60,  65,  94],\n",
       "       [119,  78,  74,  98],\n",
       "       [117,  79,  76,  99],\n",
       "       [116,  80,  74,  98],\n",
       "       [115,  78,  68,  99],\n",
       "       [126,  85,  79, 100],\n",
       "       [127,  89,  80,  98],\n",
       "       [128,  88,  79, 101],\n",
       "       [120,  78,  70, 105],\n",
       "       [118,  79,  76, 106],\n",
       "       [100,  65,  79, 100],\n",
       "       [119,  76,  72,  98],\n",
       "       [118,  79,  70,  99],\n",
       "       [117,  78,  75,  98],\n",
       "       [145,  92,  82, 101],\n",
       "       [146,  90,  80, 104],\n",
       "       [127,  85,  79, 100],\n",
       "       [126,  88,  78,  98],\n",
       "       [120,  76,  70,  98],\n",
       "       [118,  79,  76, 100],\n",
       "       [140,  99,  85, 102],\n",
       "       [128,  88,  77,  98],\n",
       "       [126,  87,  76,  99],\n",
       "       [119,  78,  70,  98],\n",
       "       [118,  77,  75,  99],\n",
       "       [104,  68,  79, 101],\n",
       "       [100,  64,  69, 104],\n",
       "       [142,  93,  80, 102],\n",
       "       [126,  85,  79,  99],\n",
       "       [127,  84,  75, 100],\n",
       "       [118,  81,  72,  98],\n",
       "       [120,  78,  70,  99],\n",
       "       [119,  80,  75,  98],\n",
       "       [118,  78,  69,  98],\n",
       "       [127,  83,  79, 100],\n",
       "       [128,  86,  64, 101],\n",
       "       [149,  96,  82, 103],\n",
       "       [148,  95,  80, 102],\n",
       "       [ 98,  60,  64, 101],\n",
       "       [101,  68,  67, 104],\n",
       "       [126,  85,  76, 100],\n",
       "       [127,  87,  78,  98],\n",
       "       [128,  88,  77,  99],\n",
       "       [120,  79,  75,  98],\n",
       "       [119,  78,  72,  98],\n",
       "       [118,  77,  70,  99],\n",
       "       [101,  67,  78, 100],\n",
       "       [104,  68,  79, 101],\n",
       "       [105,  69,  76,  99],\n",
       "       [100,  63,  80, 103],\n",
       "       [114,  78,  75,  98],\n",
       "       [116,  79,  74,  98],\n",
       "       [117,  80,  73,  99],\n",
       "       [115,  78,  70,  98],\n",
       "       [150,  96,  82, 102],\n",
       "       [151,  95,  80, 100],\n",
       "       [149,  94,  83,  99],\n",
       "       [124,  84,  76,  98],\n",
       "       [120,  80,  76,  98],\n",
       "       [119,  78,  70,  98],\n",
       "       [118,  76,  74,  98],\n",
       "       [117,  79,  73,  98],\n",
       "       [118,  79,  76, 105],\n",
       "       [120,  80,  75, 105],\n",
       "       [117,  60,  85, 100],\n",
       "       [107,  65,  80, 102],\n",
       "       [ 99,  66,  79, 102],\n",
       "       [118,  79,  73,  99],\n",
       "       [131,  86,  76,  98],\n",
       "       [132,  87,  77,  98],\n",
       "       [132,  86,  75, 102],\n",
       "       [133,  92,  79, 100],\n",
       "       [134,  87,  78,  99],\n",
       "       [135,  89,  80, 100],\n",
       "       [136,  90,  79, 101],\n",
       "       [101,  68,  70,  99],\n",
       "       [102,  67,  65, 101],\n",
       "       [ 99,  68,  66, 102],\n",
       "       [145, 100,  75, 100],\n",
       "       [146, 101,  82, 101],\n",
       "       [146,  95,  81, 100],\n",
       "       [152,  98,  75,  99],\n",
       "       [154,  99,  79, 100],\n",
       "       [118,  79,  71,  98],\n",
       "       [119,  76,  70,  99],\n",
       "       [120,  78,  69,  98],\n",
       "       [117,  79,  68,  98],\n",
       "       [116,  80,  70,  98],\n",
       "       [119,  80,  73,  99],\n",
       "       [119,  79,  70,  98],\n",
       "       [125,  85,  75, 100],\n",
       "       [126,  87,  77, 101],\n",
       "       [128,  88,  79, 101],\n",
       "       [130,  85,  76, 100],\n",
       "       [148,  90,  76, 101],\n",
       "       [147,  92,  80,  99],\n",
       "       [153, 101,  81, 102],\n",
       "       [151,  99,  82, 103],\n",
       "       [118,  78,  68,  98],\n",
       "       [119,  79,  70,  98],\n",
       "       [120,  78,  71,  99],\n",
       "       [119,  78,  74,  98],\n",
       "       [ 98,  64,  76,  98],\n",
       "       [104,  67,  84, 103],\n",
       "       [106,  62,  78, 102],\n",
       "       [130,  87,  76, 100],\n",
       "       [116,  78,  73,  98],\n",
       "       [118,  79,  69,  98],\n",
       "       [117,  77,  74,  98],\n",
       "       [134,  86,  78, 100],\n",
       "       [136,  87,  80, 101],\n",
       "       [139,  88,  81, 100],\n",
       "       [147,  94,  79, 100],\n",
       "       [154,  99,  83, 103],\n",
       "       [118,  77,  73,  98],\n",
       "       [125,  87,  79, 102],\n",
       "       [132,  88,  78, 101],\n",
       "       [118,  82,  74,  98]], dtype=int64)"
      ]
     },
     "execution_count": 9,
     "metadata": {},
     "output_type": "execute_result"
    }
   ],
   "source": [
    "x"
   ]
  },
  {
   "cell_type": "code",
   "execution_count": 10,
   "metadata": {},
   "outputs": [
    {
     "data": {
      "text/plain": [
       "array([0, 1, 2, 0, 1, 2, 0, 2, 0, 2, 0, 1, 2, 0, 0, 2, 1, 1, 2, 0, 0, 2,\n",
       "       1, 1, 2, 0, 0, 1, 1, 2, 2, 2, 0, 0, 0, 0, 1, 1, 1, 2, 2, 2, 0, 0,\n",
       "       0, 2, 2, 1, 1, 0, 0, 2, 1, 1, 0, 0, 2, 2, 2, 1, 1, 0, 0, 0, 0, 1,\n",
       "       1, 2, 2, 2, 2, 1, 1, 1, 0, 0, 0, 2, 2, 2, 2, 0, 0, 0, 0, 2, 2, 2,\n",
       "       1, 0, 0, 0, 0, 2, 2, 1, 2, 2, 0, 1, 1, 1, 1, 1, 1, 1, 2, 2, 2, 2,\n",
       "       2, 2, 2, 2, 0, 0, 0, 0, 0, 0, 0, 1, 1, 1, 1, 2, 2, 2, 2, 0, 0, 0,\n",
       "       0, 2, 2, 2, 1, 0, 0, 0, 1, 1, 1, 2, 2, 0, 1, 1, 0], dtype=int64)"
      ]
     },
     "execution_count": 10,
     "metadata": {},
     "output_type": "execute_result"
    }
   ],
   "source": [
    "y"
   ]
  },
  {
   "cell_type": "code",
   "execution_count": 11,
   "metadata": {},
   "outputs": [],
   "source": [
    "from sklearn.model_selection import train_test_split\n",
    "X_train,X_test,y_train,y_test = train_test_split(x,y,test_size=0.2,random_state=0)"
   ]
  },
  {
   "cell_type": "code",
   "execution_count": 12,
   "metadata": {},
   "outputs": [
    {
     "data": {
      "text/plain": [
       "array([[128,  87,  80, 100],\n",
       "       [ 99,  66,  79, 102],\n",
       "       [107,  65,  80, 102],\n",
       "       [ 98,  60,  64, 101],\n",
       "       [140,  91,  80, 102],\n",
       "       [136,  90,  79, 101],\n",
       "       [130,  87,  76, 100],\n",
       "       [118,  81,  72,  98],\n",
       "       [140,  99,  85, 102],\n",
       "       [155, 100,  92, 104],\n",
       "       [125,  87,  79, 102],\n",
       "       [117,  73,  76,  99],\n",
       "       [104,  68,  79, 101],\n",
       "       [154,  99,  79, 100],\n",
       "       [147,  94,  79, 100],\n",
       "       [120,  78,  69,  98],\n",
       "       [128,  86,  64, 101],\n",
       "       [104,  68,  79, 101],\n",
       "       [126,  85,  76, 100],\n",
       "       [120,  78,  71,  99],\n",
       "       [119,  79,  70,  98],\n",
       "       [120,  80,  76,  98],\n",
       "       [118,  77,  73,  98],\n",
       "       [132,  87,  77,  98],\n",
       "       [118,  79,  76, 100],\n",
       "       [147,  92,  80,  99],\n",
       "       [127,  84,  75, 100],\n",
       "       [100,  65,  62,  95],\n",
       "       [119,  80,  75,  98],\n",
       "       [118,  76,  74,  98],\n",
       "       [117,  80,  73,  99],\n",
       "       [151,  95,  80, 100],\n",
       "       [128,  88,  79, 101],\n",
       "       [118,  79,  73,  99],\n",
       "       [126,  87,  77, 101],\n",
       "       [126,  88,  78,  98],\n",
       "       [118,  75,  75,  99],\n",
       "       [ 99,  68,  66, 102],\n",
       "       [117,  79,  73,  98],\n",
       "       [116,  77,  74,  98],\n",
       "       [105,  65,  60, 102],\n",
       "       [128,  88,  77,  98],\n",
       "       [115,  82,  79,  97],\n",
       "       [153, 101,  81, 102],\n",
       "       [118,  77,  70,  99],\n",
       "       [116,  75,  70,  99],\n",
       "       [148,  95,  80, 102],\n",
       "       [101,  68,  70,  99],\n",
       "       [118,  79,  76, 105],\n",
       "       [145,  90,  82, 104],\n",
       "       [130,  85,  76, 100],\n",
       "       [132,  88,  78, 101],\n",
       "       [132,  86,  75, 102],\n",
       "       [148,  90,  76, 101],\n",
       "       [146,  90,  80, 104],\n",
       "       [130,  88,  84, 101],\n",
       "       [102,  67,  65, 101],\n",
       "       [152,  98,  75,  99],\n",
       "       [100,  65,  79, 100],\n",
       "       [118,  79,  71,  98],\n",
       "       [140,  83,  75, 100],\n",
       "       [146, 101,  82, 101],\n",
       "       [118,  79,  69,  98],\n",
       "       [119,  76,  72,  98],\n",
       "       [119,  79,  85, 102],\n",
       "       [151,  99,  82, 103],\n",
       "       [135,  87,  76, 100],\n",
       "       [128,  88,  79, 101],\n",
       "       [ 95,  65,  75, 101],\n",
       "       [126,  87,  76,  99],\n",
       "       [139,  88,  81, 100],\n",
       "       [133,  92,  79, 100],\n",
       "       [120,  80,  80,  98],\n",
       "       [116,  80,  74,  98],\n",
       "       [130,  85,  82, 101],\n",
       "       [118,  77,  75,  99],\n",
       "       [119,  78,  72,  98],\n",
       "       [115,  78,  68,  99],\n",
       "       [126,  90,  80, 101],\n",
       "       [120,  79,  75,  98],\n",
       "       [ 99,  60,  65,  94],\n",
       "       [125,  85,  75, 100],\n",
       "       [100,  64,  69, 104],\n",
       "       [119,  79,  70,  98],\n",
       "       [127,  83,  79, 100],\n",
       "       [119,  78,  74,  98],\n",
       "       [116,  78,  73,  98],\n",
       "       [114,  76,  69,  98],\n",
       "       [119,  80,  73,  99],\n",
       "       [119,  78,  70,  99],\n",
       "       [148,  92,  84, 104],\n",
       "       [118,  78,  68,  98],\n",
       "       [120,  76,  70,  98],\n",
       "       [106,  62,  78, 102],\n",
       "       [131,  86,  76,  98],\n",
       "       [116,  79,  74,  98],\n",
       "       [118,  78,  69,  98],\n",
       "       [118,  82,  74,  98],\n",
       "       [105,  69,  76,  99],\n",
       "       [119,  76,  70,  99],\n",
       "       [154,  99,  83, 103],\n",
       "       [127,  87,  78,  98],\n",
       "       [101,  67,  78, 100],\n",
       "       [116,  78,  70,  98],\n",
       "       [114,  78,  75,  98],\n",
       "       [117,  77,  74,  98],\n",
       "       [136,  87,  80, 101],\n",
       "       [120,  78,  70, 105],\n",
       "       [142,  93,  80, 102],\n",
       "       [124,  84,  76,  98],\n",
       "       [101,  68,  67, 104],\n",
       "       [149,  94,  83,  99],\n",
       "       [126,  85,  79, 100],\n",
       "       [106,  68,  79, 103],\n",
       "       [110,  69,  65, 102],\n",
       "       [134,  87,  78,  99],\n",
       "       [149,  96,  82, 103],\n",
       "       [117,  79,  68,  98],\n",
       "       [127,  85,  79, 100]], dtype=int64)"
      ]
     },
     "execution_count": 12,
     "metadata": {},
     "output_type": "execute_result"
    }
   ],
   "source": [
    "X_train"
   ]
  },
  {
   "cell_type": "code",
   "execution_count": 13,
   "metadata": {},
   "outputs": [
    {
     "data": {
      "text/plain": [
       "array([[ 98,  64,  76,  98],\n",
       "       [145, 100,  75, 100],\n",
       "       [126,  85,  79,  99],\n",
       "       [100,  63,  80, 103],\n",
       "       [100,  60,  79,  98],\n",
       "       [135,  89,  80, 100],\n",
       "       [134,  86,  78, 100],\n",
       "       [117,  60,  85, 100],\n",
       "       [116,  80,  70,  98],\n",
       "       [115,  78,  70,  98],\n",
       "       [117,  79,  76,  99],\n",
       "       [117,  78,  75,  98],\n",
       "       [119,  78,  70,  98],\n",
       "       [147,  95,  84, 104],\n",
       "       [127,  89,  80,  98],\n",
       "       [119,  78,  74,  98],\n",
       "       [146,  95,  81, 100],\n",
       "       [128,  88,  77,  99],\n",
       "       [132,  89,  76, 101],\n",
       "       [145,  92,  82, 101],\n",
       "       [118,  79,  76, 106],\n",
       "       [119,  78,  68, 100],\n",
       "       [150,  96,  82, 102],\n",
       "       [129,  89,  82, 100],\n",
       "       [120,  78,  70,  99],\n",
       "       [120,  80,  75, 105],\n",
       "       [119,  78,  70,  98],\n",
       "       [118,  76,  68,  99],\n",
       "       [118,  79,  70,  99],\n",
       "       [104,  67,  84, 103]], dtype=int64)"
      ]
     },
     "execution_count": 13,
     "metadata": {},
     "output_type": "execute_result"
    }
   ],
   "source": [
    "X_test"
   ]
  },
  {
   "cell_type": "code",
   "execution_count": 14,
   "metadata": {},
   "outputs": [
    {
     "data": {
      "text/plain": [
       "array([1, 2, 2, 2, 2, 1, 1, 0, 2, 2, 1, 0, 2, 2, 2, 0, 1, 2, 1, 0, 0, 0,\n",
       "       0, 1, 0, 2, 1, 2, 0, 0, 0, 2, 1, 0, 1, 1, 0, 2, 0, 0, 2, 1, 0, 2,\n",
       "       0, 0, 2, 2, 2, 2, 1, 1, 1, 2, 2, 1, 2, 2, 2, 0, 1, 2, 0, 0, 1, 2,\n",
       "       1, 1, 2, 1, 1, 1, 0, 0, 1, 0, 0, 0, 1, 0, 2, 1, 2, 0, 1, 0, 0, 0,\n",
       "       0, 0, 2, 0, 0, 2, 1, 0, 0, 0, 2, 0, 2, 1, 2, 0, 0, 0, 1, 2, 2, 1,\n",
       "       2, 2, 1, 2, 2, 1, 2, 0, 1], dtype=int64)"
      ]
     },
     "execution_count": 14,
     "metadata": {},
     "output_type": "execute_result"
    }
   ],
   "source": [
    "y_train"
   ]
  },
  {
   "cell_type": "code",
   "execution_count": 15,
   "metadata": {},
   "outputs": [
    {
     "data": {
      "text/plain": [
       "array([2, 2, 1, 2, 2, 1, 1, 1, 0, 0, 0, 0, 0, 2, 1, 0, 2, 1, 1, 2, 2, 0,\n",
       "       2, 1, 0, 2, 0, 0, 0, 2], dtype=int64)"
      ]
     },
     "execution_count": 15,
     "metadata": {},
     "output_type": "execute_result"
    }
   ],
   "source": [
    "y_test"
   ]
  },
  {
   "attachments": {},
   "cell_type": "markdown",
   "metadata": {},
   "source": [
    "# Feature scaling"
   ]
  },
  {
   "cell_type": "code",
   "execution_count": 16,
   "metadata": {},
   "outputs": [],
   "source": [
    "from sklearn.preprocessing import StandardScaler\n",
    "sc1=StandardScaler()\n",
    "X_train = sc1.fit_transform(X_train)\n",
    "X_test = sc1.transform(X_test)"
   ]
  },
  {
   "cell_type": "code",
   "execution_count": 17,
   "metadata": {},
   "outputs": [
    {
     "data": {
      "text/plain": [
       "array([[ 0.30251906,  0.59096996,  0.86737175,  0.05006436],\n",
       "       [-1.68225901, -1.60997479,  0.68139475,  1.0430075 ],\n",
       "       [-1.13473402, -1.71478168,  0.86737175,  1.0430075 ],\n",
       "       [-1.75069963, -2.23881614, -2.10826035,  0.54653593],\n",
       "       [ 1.12380653,  1.01019753,  0.86737175,  1.0430075 ],\n",
       "       [ 0.85004404,  0.90539064,  0.68139475,  0.54653593],\n",
       "       [ 0.4394003 ,  0.59096996,  0.12346373,  0.05006436],\n",
       "       [-0.38188717, -0.0378714 , -0.6204443 , -0.94287878],\n",
       "       [ 1.12380653,  1.84865267,  1.79725678,  1.0430075 ],\n",
       "       [ 2.15041587,  1.95345956,  3.09909583,  2.03595065],\n",
       "       [ 0.09719719,  0.59096996,  0.68139475,  1.0430075 ],\n",
       "       [-0.4503278 , -0.87632654,  0.12346373, -0.44640721],\n",
       "       [-1.34005589, -1.400361  ,  0.68139475,  0.54653593],\n",
       "       [ 2.08197525,  1.84865267,  0.68139475,  0.05006436],\n",
       "       [ 1.60289089,  1.32461821,  0.68139475,  0.05006436],\n",
       "       [-0.24500593, -0.35229208, -1.17837532, -0.94287878],\n",
       "       [ 0.30251906,  0.48616306, -2.10826035,  0.54653593],\n",
       "       [-1.34005589, -1.400361  ,  0.68139475,  0.54653593],\n",
       "       [ 0.16563781,  0.38135617,  0.12346373,  0.05006436],\n",
       "       [-0.24500593, -0.35229208, -0.8064213 , -0.44640721],\n",
       "       [-0.31344655, -0.24748518, -0.99239831, -0.94287878],\n",
       "       [-0.24500593, -0.14267829,  0.12346373, -0.94287878],\n",
       "       [-0.38188717, -0.45709897, -0.43446729, -0.94287878],\n",
       "       [ 0.57628155,  0.59096996,  0.30944073, -0.94287878],\n",
       "       [-0.38188717, -0.24748518,  0.12346373,  0.05006436],\n",
       "       [ 1.60289089,  1.11500442,  0.86737175, -0.44640721],\n",
       "       [ 0.23407843,  0.27654928, -0.06251328,  0.05006436],\n",
       "       [-1.61381838, -1.71478168, -2.48021436, -2.4322935 ],\n",
       "       [-0.31344655, -0.14267829, -0.06251328, -0.94287878],\n",
       "       [-0.38188717, -0.56190586, -0.24849029, -0.94287878],\n",
       "       [-0.4503278 , -0.14267829, -0.43446729, -0.44640721],\n",
       "       [ 1.87665338,  1.4294251 ,  0.86737175,  0.05006436],\n",
       "       [ 0.30251906,  0.69577685,  0.68139475,  0.54653593],\n",
       "       [-0.38188717, -0.24748518, -0.43446729, -0.44640721],\n",
       "       [ 0.16563781,  0.59096996,  0.30944073,  0.54653593],\n",
       "       [ 0.16563781,  0.69577685,  0.49541774, -0.94287878],\n",
       "       [-0.38188717, -0.66671275, -0.06251328, -0.44640721],\n",
       "       [-1.68225901, -1.400361  , -1.73630633,  1.0430075 ],\n",
       "       [-0.4503278 , -0.24748518, -0.43446729, -0.94287878],\n",
       "       [-0.51876842, -0.45709897, -0.24849029, -0.94287878],\n",
       "       [-1.27161527, -1.71478168, -2.85216837,  1.0430075 ],\n",
       "       [ 0.30251906,  0.69577685,  0.30944073, -0.94287878],\n",
       "       [-0.58720904,  0.06693549,  0.68139475, -1.43935035],\n",
       "       [ 2.01353463,  2.05826645,  1.05334876,  1.0430075 ],\n",
       "       [-0.38188717, -0.45709897, -0.99239831, -0.44640721],\n",
       "       [-0.51876842, -0.66671275, -0.99239831, -0.44640721],\n",
       "       [ 1.67133151,  1.4294251 ,  0.86737175,  1.0430075 ],\n",
       "       [-1.54537776, -1.400361  , -0.99239831, -0.44640721],\n",
       "       [-0.38188717, -0.24748518,  0.12346373,  2.53242222],\n",
       "       [ 1.46600964,  0.90539064,  1.23932576,  2.03595065],\n",
       "       [ 0.4394003 ,  0.38135617,  0.12346373,  0.05006436],\n",
       "       [ 0.57628155,  0.69577685,  0.49541774,  0.54653593],\n",
       "       [ 0.57628155,  0.48616306, -0.06251328,  1.0430075 ],\n",
       "       [ 1.67133151,  0.90539064,  0.12346373,  0.54653593],\n",
       "       [ 1.53445027,  0.90539064,  0.86737175,  2.03595065],\n",
       "       [ 0.4394003 ,  0.69577685,  1.61127978,  0.54653593],\n",
       "       [-1.47693714, -1.50516789, -1.92228334,  0.54653593],\n",
       "       [ 1.945094  ,  1.74384578, -0.06251328, -0.44640721],\n",
       "       [-1.61381838, -1.71478168,  0.68139475,  0.05006436],\n",
       "       [-0.38188717, -0.24748518, -0.8064213 , -0.94287878],\n",
       "       [ 1.12380653,  0.17174239, -0.06251328,  0.05006436],\n",
       "       [ 1.53445027,  2.05826645,  1.23932576,  0.54653593],\n",
       "       [-0.38188717, -0.24748518, -1.17837532, -0.94287878],\n",
       "       [-0.31344655, -0.56190586, -0.6204443 , -0.94287878],\n",
       "       [-0.31344655, -0.24748518,  1.79725678,  1.0430075 ],\n",
       "       [ 1.87665338,  1.84865267,  1.23932576,  1.53947908],\n",
       "       [ 0.78160341,  0.59096996,  0.12346373,  0.05006436],\n",
       "       [ 0.30251906,  0.69577685,  0.68139475,  0.54653593],\n",
       "       [-1.9560215 , -1.71478168, -0.06251328,  0.54653593],\n",
       "       [ 0.16563781,  0.59096996,  0.12346373, -0.44640721],\n",
       "       [ 1.05536591,  0.69577685,  1.05334876,  0.05006436],\n",
       "       [ 0.64472217,  1.11500442,  0.68139475,  0.05006436],\n",
       "       [-0.24500593, -0.14267829,  0.86737175, -0.94287878],\n",
       "       [-0.51876842, -0.14267829, -0.24849029, -0.94287878],\n",
       "       [ 0.4394003 ,  0.38135617,  1.23932576,  0.54653593],\n",
       "       [-0.38188717, -0.45709897, -0.06251328, -0.44640721],\n",
       "       [-0.31344655, -0.35229208, -0.6204443 , -0.94287878],\n",
       "       [-0.58720904, -0.35229208, -1.36435232, -0.44640721],\n",
       "       [ 0.16563781,  0.90539064,  0.86737175,  0.54653593],\n",
       "       [-0.24500593, -0.24748518, -0.06251328, -0.94287878],\n",
       "       [-1.68225901, -2.23881614, -1.92228334, -2.92876507],\n",
       "       [ 0.09719719,  0.38135617, -0.06251328,  0.05006436],\n",
       "       [-1.61381838, -1.81958857, -1.17837532,  2.03595065],\n",
       "       [-0.31344655, -0.24748518, -0.99239831, -0.94287878],\n",
       "       [ 0.23407843,  0.17174239,  0.68139475,  0.05006436],\n",
       "       [-0.31344655, -0.35229208, -0.24849029, -0.94287878],\n",
       "       [-0.51876842, -0.35229208, -0.43446729, -0.94287878],\n",
       "       [-0.65564966, -0.56190586, -1.17837532, -0.94287878],\n",
       "       [-0.31344655, -0.14267829, -0.43446729, -0.44640721],\n",
       "       [-0.31344655, -0.35229208, -0.99239831, -0.44640721],\n",
       "       [ 1.67133151,  1.11500442,  1.61127978,  2.03595065],\n",
       "       [-0.38188717, -0.35229208, -1.36435232, -0.94287878],\n",
       "       [-0.24500593, -0.56190586, -0.99239831, -0.94287878],\n",
       "       [-1.20317465, -2.02920236,  0.49541774,  1.0430075 ],\n",
       "       [ 0.50784092,  0.48616306,  0.12346373, -0.94287878],\n",
       "       [-0.51876842, -0.24748518, -0.24849029, -0.94287878],\n",
       "       [-0.38188717, -0.35229208, -1.17837532, -0.94287878],\n",
       "       [-0.38188717,  0.06693549, -0.24849029, -0.94287878],\n",
       "       [-1.27161527, -1.29555411,  0.12346373, -0.44640721],\n",
       "       [-0.31344655, -0.56190586, -0.99239831, -0.44640721],\n",
       "       [ 2.08197525,  1.84865267,  1.42530277,  1.53947908],\n",
       "       [ 0.23407843,  0.59096996,  0.49541774, -0.94287878],\n",
       "       [-1.54537776, -1.50516789,  0.49541774,  0.05006436],\n",
       "       [-0.51876842, -0.35229208, -0.99239831, -0.94287878],\n",
       "       [-0.65564966, -0.35229208, -0.06251328, -0.94287878],\n",
       "       [-0.4503278 , -0.45709897, -0.24849029, -0.94287878],\n",
       "       [ 0.85004404,  0.59096996,  0.86737175,  0.54653593],\n",
       "       [-0.24500593, -0.35229208, -0.99239831,  2.53242222],\n",
       "       [ 1.26068777,  1.21981131,  0.86737175,  1.0430075 ],\n",
       "       [ 0.02875656,  0.27654928,  0.12346373, -0.94287878],\n",
       "       [-1.54537776, -1.400361  , -1.55032933,  2.03595065],\n",
       "       [ 1.73977213,  1.32461821,  1.42530277, -0.44640721],\n",
       "       [ 0.16563781,  0.38135617,  0.68139475,  0.05006436],\n",
       "       [-1.20317465, -1.400361  ,  0.68139475,  1.53947908],\n",
       "       [-0.92941215, -1.29555411, -1.92228334,  1.0430075 ],\n",
       "       [ 0.71316279,  0.59096996,  0.49541774, -0.44640721],\n",
       "       [ 1.73977213,  1.53423199,  1.23932576,  1.53947908],\n",
       "       [-0.4503278 , -0.24748518, -1.36435232, -0.94287878],\n",
       "       [ 0.23407843,  0.38135617,  0.68139475,  0.05006436]])"
      ]
     },
     "execution_count": 17,
     "metadata": {},
     "output_type": "execute_result"
    }
   ],
   "source": [
    "X_train"
   ]
  },
  {
   "cell_type": "code",
   "execution_count": 18,
   "metadata": {},
   "outputs": [
    {
     "data": {
      "text/plain": [
       "array([[-1.75069963, -1.81958857,  0.12346373, -0.94287878],\n",
       "       [ 1.46600964,  1.95345956, -0.06251328,  0.05006436],\n",
       "       [ 0.16563781,  0.38135617,  0.68139475, -0.44640721],\n",
       "       [-1.61381838, -1.92439546,  0.86737175,  1.53947908],\n",
       "       [-1.61381838, -2.23881614,  0.68139475, -0.94287878],\n",
       "       [ 0.78160341,  0.80058374,  0.86737175,  0.05006436],\n",
       "       [ 0.71316279,  0.48616306,  0.49541774,  0.05006436],\n",
       "       [-0.4503278 , -2.23881614,  1.79725678,  0.05006436],\n",
       "       [-0.51876842, -0.14267829, -0.99239831, -0.94287878],\n",
       "       [-0.58720904, -0.35229208, -0.99239831, -0.94287878],\n",
       "       [-0.4503278 , -0.24748518,  0.12346373, -0.44640721],\n",
       "       [-0.4503278 , -0.35229208, -0.06251328, -0.94287878],\n",
       "       [-0.31344655, -0.35229208, -0.99239831, -0.94287878],\n",
       "       [ 1.60289089,  1.4294251 ,  1.61127978,  2.03595065],\n",
       "       [ 0.23407843,  0.80058374,  0.86737175, -0.94287878],\n",
       "       [-0.31344655, -0.35229208, -0.24849029, -0.94287878],\n",
       "       [ 1.53445027,  1.4294251 ,  1.05334876,  0.05006436],\n",
       "       [ 0.30251906,  0.69577685,  0.30944073, -0.44640721],\n",
       "       [ 0.57628155,  0.80058374,  0.12346373,  0.54653593],\n",
       "       [ 1.46600964,  1.11500442,  1.23932576,  0.54653593],\n",
       "       [-0.38188717, -0.24748518,  0.12346373,  3.02889379],\n",
       "       [-0.31344655, -0.35229208, -1.36435232,  0.05006436],\n",
       "       [ 1.80821276,  1.53423199,  1.23932576,  1.0430075 ],\n",
       "       [ 0.37095968,  0.80058374,  1.23932576,  0.05006436],\n",
       "       [-0.24500593, -0.35229208, -0.99239831, -0.44640721],\n",
       "       [-0.24500593, -0.14267829, -0.06251328,  2.53242222],\n",
       "       [-0.31344655, -0.35229208, -0.99239831, -0.94287878],\n",
       "       [-0.38188717, -0.56190586, -1.36435232, -0.44640721],\n",
       "       [-0.38188717, -0.24748518, -0.99239831, -0.44640721],\n",
       "       [-1.34005589, -1.50516789,  1.61127978,  1.53947908]])"
      ]
     },
     "execution_count": 18,
     "metadata": {},
     "output_type": "execute_result"
    }
   ],
   "source": [
    "X_test"
   ]
  },
  {
   "attachments": {},
   "cell_type": "markdown",
   "metadata": {},
   "source": [
    "# Training and Testing the model"
   ]
  },
  {
   "cell_type": "code",
   "execution_count": 19,
   "metadata": {},
   "outputs": [],
   "source": [
    "from sklearn.neighbors import KNeighborsClassifier\n",
    "knn = KNeighborsClassifier(n_neighbors=5,metric='minkowski',p=2)"
   ]
  },
  {
   "cell_type": "code",
   "execution_count": 20,
   "metadata": {},
   "outputs": [
    {
     "data": {
      "text/html": [
       "<style>#sk-container-id-1 {color: black;background-color: white;}#sk-container-id-1 pre{padding: 0;}#sk-container-id-1 div.sk-toggleable {background-color: white;}#sk-container-id-1 label.sk-toggleable__label {cursor: pointer;display: block;width: 100%;margin-bottom: 0;padding: 0.3em;box-sizing: border-box;text-align: center;}#sk-container-id-1 label.sk-toggleable__label-arrow:before {content: \"▸\";float: left;margin-right: 0.25em;color: #696969;}#sk-container-id-1 label.sk-toggleable__label-arrow:hover:before {color: black;}#sk-container-id-1 div.sk-estimator:hover label.sk-toggleable__label-arrow:before {color: black;}#sk-container-id-1 div.sk-toggleable__content {max-height: 0;max-width: 0;overflow: hidden;text-align: left;background-color: #f0f8ff;}#sk-container-id-1 div.sk-toggleable__content pre {margin: 0.2em;color: black;border-radius: 0.25em;background-color: #f0f8ff;}#sk-container-id-1 input.sk-toggleable__control:checked~div.sk-toggleable__content {max-height: 200px;max-width: 100%;overflow: auto;}#sk-container-id-1 input.sk-toggleable__control:checked~label.sk-toggleable__label-arrow:before {content: \"▾\";}#sk-container-id-1 div.sk-estimator input.sk-toggleable__control:checked~label.sk-toggleable__label {background-color: #d4ebff;}#sk-container-id-1 div.sk-label input.sk-toggleable__control:checked~label.sk-toggleable__label {background-color: #d4ebff;}#sk-container-id-1 input.sk-hidden--visually {border: 0;clip: rect(1px 1px 1px 1px);clip: rect(1px, 1px, 1px, 1px);height: 1px;margin: -1px;overflow: hidden;padding: 0;position: absolute;width: 1px;}#sk-container-id-1 div.sk-estimator {font-family: monospace;background-color: #f0f8ff;border: 1px dotted black;border-radius: 0.25em;box-sizing: border-box;margin-bottom: 0.5em;}#sk-container-id-1 div.sk-estimator:hover {background-color: #d4ebff;}#sk-container-id-1 div.sk-parallel-item::after {content: \"\";width: 100%;border-bottom: 1px solid gray;flex-grow: 1;}#sk-container-id-1 div.sk-label:hover label.sk-toggleable__label {background-color: #d4ebff;}#sk-container-id-1 div.sk-serial::before {content: \"\";position: absolute;border-left: 1px solid gray;box-sizing: border-box;top: 0;bottom: 0;left: 50%;z-index: 0;}#sk-container-id-1 div.sk-serial {display: flex;flex-direction: column;align-items: center;background-color: white;padding-right: 0.2em;padding-left: 0.2em;position: relative;}#sk-container-id-1 div.sk-item {position: relative;z-index: 1;}#sk-container-id-1 div.sk-parallel {display: flex;align-items: stretch;justify-content: center;background-color: white;position: relative;}#sk-container-id-1 div.sk-item::before, #sk-container-id-1 div.sk-parallel-item::before {content: \"\";position: absolute;border-left: 1px solid gray;box-sizing: border-box;top: 0;bottom: 0;left: 50%;z-index: -1;}#sk-container-id-1 div.sk-parallel-item {display: flex;flex-direction: column;z-index: 1;position: relative;background-color: white;}#sk-container-id-1 div.sk-parallel-item:first-child::after {align-self: flex-end;width: 50%;}#sk-container-id-1 div.sk-parallel-item:last-child::after {align-self: flex-start;width: 50%;}#sk-container-id-1 div.sk-parallel-item:only-child::after {width: 0;}#sk-container-id-1 div.sk-dashed-wrapped {border: 1px dashed gray;margin: 0 0.4em 0.5em 0.4em;box-sizing: border-box;padding-bottom: 0.4em;background-color: white;}#sk-container-id-1 div.sk-label label {font-family: monospace;font-weight: bold;display: inline-block;line-height: 1.2em;}#sk-container-id-1 div.sk-label-container {text-align: center;}#sk-container-id-1 div.sk-container {/* jupyter's `normalize.less` sets `[hidden] { display: none; }` but bootstrap.min.css set `[hidden] { display: none !important; }` so we also need the `!important` here to be able to override the default hidden behavior on the sphinx rendered scikit-learn.org. See: https://github.com/scikit-learn/scikit-learn/issues/21755 */display: inline-block !important;position: relative;}#sk-container-id-1 div.sk-text-repr-fallback {display: none;}</style><div id=\"sk-container-id-1\" class=\"sk-top-container\"><div class=\"sk-text-repr-fallback\"><pre>KNeighborsClassifier()</pre><b>In a Jupyter environment, please rerun this cell to show the HTML representation or trust the notebook. <br />On GitHub, the HTML representation is unable to render, please try loading this page with nbviewer.org.</b></div><div class=\"sk-container\" hidden><div class=\"sk-item\"><div class=\"sk-estimator sk-toggleable\"><input class=\"sk-toggleable__control sk-hidden--visually\" id=\"sk-estimator-id-1\" type=\"checkbox\" checked><label for=\"sk-estimator-id-1\" class=\"sk-toggleable__label sk-toggleable__label-arrow\">KNeighborsClassifier</label><div class=\"sk-toggleable__content\"><pre>KNeighborsClassifier()</pre></div></div></div></div></div>"
      ],
      "text/plain": [
       "KNeighborsClassifier()"
      ]
     },
     "execution_count": 20,
     "metadata": {},
     "output_type": "execute_result"
    }
   ],
   "source": [
    "knn.fit(X_train,y_train)"
   ]
  },
  {
   "cell_type": "code",
   "execution_count": 21,
   "metadata": {},
   "outputs": [
    {
     "data": {
      "text/plain": [
       "['hms.save']"
      ]
     },
     "execution_count": 21,
     "metadata": {},
     "output_type": "execute_result"
    }
   ],
   "source": [
    "from joblib import dump\n",
    "dump(knn,'hms.save')"
   ]
  },
  {
   "cell_type": "code",
   "execution_count": 22,
   "metadata": {},
   "outputs": [
    {
     "data": {
      "text/plain": [
       "array([2, 2, 1, 2, 2, 1, 1, 2, 0, 0, 0, 0, 0, 2, 1, 0, 2, 1, 1, 2, 2, 0,\n",
       "       2, 1, 0, 2, 0, 0, 0, 2], dtype=int64)"
      ]
     },
     "execution_count": 22,
     "metadata": {},
     "output_type": "execute_result"
    }
   ],
   "source": [
    "y_pred=knn.predict(X_test)\n",
    "y_pred"
   ]
  },
  {
   "attachments": {},
   "cell_type": "markdown",
   "metadata": {},
   "source": [
    "# Evaluation"
   ]
  },
  {
   "cell_type": "code",
   "execution_count": 23,
   "metadata": {},
   "outputs": [
    {
     "data": {
      "text/plain": [
       "0.9666666666666667"
      ]
     },
     "execution_count": 23,
     "metadata": {},
     "output_type": "execute_result"
    }
   ],
   "source": [
    "from sklearn.metrics import accuracy_score\n",
    "accuracy_score(y_test,y_pred)"
   ]
  },
  {
   "cell_type": "code",
   "execution_count": null,
   "metadata": {},
   "outputs": [],
   "source": []
  }
 ],
 "metadata": {
  "kernelspec": {
   "display_name": "Python 3",
   "language": "python",
   "name": "python3"
  },
  "language_info": {
   "codemirror_mode": {
    "name": "ipython",
    "version": 3
   },
   "file_extension": ".py",
   "mimetype": "text/x-python",
   "name": "python",
   "nbconvert_exporter": "python",
   "pygments_lexer": "ipython3",
   "version": "3.9.12"
  }
 },
 "nbformat": 4,
 "nbformat_minor": 4
}
